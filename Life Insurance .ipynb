{
 "cells": [
  {
   "cell_type": "code",
   "execution_count": 37,
   "id": "249a0182",
   "metadata": {},
   "outputs": [],
   "source": [
    "import pandas as pd\n",
    "import numpy as np\n",
    "import missingno as msno"
   ]
  },
  {
   "cell_type": "code",
   "execution_count": 9,
   "id": "4289c3ee",
   "metadata": {},
   "outputs": [],
   "source": [
    "LifeInsDS = pd.read_csv(r\"C:\\Users\\brian\\Desktop\\Springboard\\Capstone Two - Project Ideas\\Prudential Life Insurance_data_set\\train.csv\")"
   ]
  },
  {
   "cell_type": "code",
   "execution_count": 10,
   "id": "240bedd9",
   "metadata": {},
   "outputs": [
    {
     "data": {
      "text/html": [
       "<div>\n",
       "<style scoped>\n",
       "    .dataframe tbody tr th:only-of-type {\n",
       "        vertical-align: middle;\n",
       "    }\n",
       "\n",
       "    .dataframe tbody tr th {\n",
       "        vertical-align: top;\n",
       "    }\n",
       "\n",
       "    .dataframe thead th {\n",
       "        text-align: right;\n",
       "    }\n",
       "</style>\n",
       "<table border=\"1\" class=\"dataframe\">\n",
       "  <thead>\n",
       "    <tr style=\"text-align: right;\">\n",
       "      <th></th>\n",
       "      <th>Id</th>\n",
       "      <th>Product_Info_1</th>\n",
       "      <th>Product_Info_2</th>\n",
       "      <th>Product_Info_3</th>\n",
       "      <th>Product_Info_4</th>\n",
       "      <th>Product_Info_5</th>\n",
       "      <th>Product_Info_6</th>\n",
       "      <th>Product_Info_7</th>\n",
       "      <th>Ins_Age</th>\n",
       "      <th>Ht</th>\n",
       "      <th>...</th>\n",
       "      <th>Medical_Keyword_40</th>\n",
       "      <th>Medical_Keyword_41</th>\n",
       "      <th>Medical_Keyword_42</th>\n",
       "      <th>Medical_Keyword_43</th>\n",
       "      <th>Medical_Keyword_44</th>\n",
       "      <th>Medical_Keyword_45</th>\n",
       "      <th>Medical_Keyword_46</th>\n",
       "      <th>Medical_Keyword_47</th>\n",
       "      <th>Medical_Keyword_48</th>\n",
       "      <th>Response</th>\n",
       "    </tr>\n",
       "  </thead>\n",
       "  <tbody>\n",
       "    <tr>\n",
       "      <th>0</th>\n",
       "      <td>2</td>\n",
       "      <td>1</td>\n",
       "      <td>D3</td>\n",
       "      <td>10</td>\n",
       "      <td>0.076923</td>\n",
       "      <td>2</td>\n",
       "      <td>1</td>\n",
       "      <td>1</td>\n",
       "      <td>0.641791</td>\n",
       "      <td>0.581818</td>\n",
       "      <td>...</td>\n",
       "      <td>0</td>\n",
       "      <td>0</td>\n",
       "      <td>0</td>\n",
       "      <td>0</td>\n",
       "      <td>0</td>\n",
       "      <td>0</td>\n",
       "      <td>0</td>\n",
       "      <td>0</td>\n",
       "      <td>0</td>\n",
       "      <td>8</td>\n",
       "    </tr>\n",
       "    <tr>\n",
       "      <th>1</th>\n",
       "      <td>5</td>\n",
       "      <td>1</td>\n",
       "      <td>A1</td>\n",
       "      <td>26</td>\n",
       "      <td>0.076923</td>\n",
       "      <td>2</td>\n",
       "      <td>3</td>\n",
       "      <td>1</td>\n",
       "      <td>0.059701</td>\n",
       "      <td>0.600000</td>\n",
       "      <td>...</td>\n",
       "      <td>0</td>\n",
       "      <td>0</td>\n",
       "      <td>0</td>\n",
       "      <td>0</td>\n",
       "      <td>0</td>\n",
       "      <td>0</td>\n",
       "      <td>0</td>\n",
       "      <td>0</td>\n",
       "      <td>0</td>\n",
       "      <td>4</td>\n",
       "    </tr>\n",
       "    <tr>\n",
       "      <th>2</th>\n",
       "      <td>6</td>\n",
       "      <td>1</td>\n",
       "      <td>E1</td>\n",
       "      <td>26</td>\n",
       "      <td>0.076923</td>\n",
       "      <td>2</td>\n",
       "      <td>3</td>\n",
       "      <td>1</td>\n",
       "      <td>0.029851</td>\n",
       "      <td>0.745455</td>\n",
       "      <td>...</td>\n",
       "      <td>0</td>\n",
       "      <td>0</td>\n",
       "      <td>0</td>\n",
       "      <td>0</td>\n",
       "      <td>0</td>\n",
       "      <td>0</td>\n",
       "      <td>0</td>\n",
       "      <td>0</td>\n",
       "      <td>0</td>\n",
       "      <td>8</td>\n",
       "    </tr>\n",
       "    <tr>\n",
       "      <th>3</th>\n",
       "      <td>7</td>\n",
       "      <td>1</td>\n",
       "      <td>D4</td>\n",
       "      <td>10</td>\n",
       "      <td>0.487179</td>\n",
       "      <td>2</td>\n",
       "      <td>3</td>\n",
       "      <td>1</td>\n",
       "      <td>0.164179</td>\n",
       "      <td>0.672727</td>\n",
       "      <td>...</td>\n",
       "      <td>0</td>\n",
       "      <td>0</td>\n",
       "      <td>0</td>\n",
       "      <td>0</td>\n",
       "      <td>0</td>\n",
       "      <td>0</td>\n",
       "      <td>0</td>\n",
       "      <td>0</td>\n",
       "      <td>0</td>\n",
       "      <td>8</td>\n",
       "    </tr>\n",
       "    <tr>\n",
       "      <th>4</th>\n",
       "      <td>8</td>\n",
       "      <td>1</td>\n",
       "      <td>D2</td>\n",
       "      <td>26</td>\n",
       "      <td>0.230769</td>\n",
       "      <td>2</td>\n",
       "      <td>3</td>\n",
       "      <td>1</td>\n",
       "      <td>0.417910</td>\n",
       "      <td>0.654545</td>\n",
       "      <td>...</td>\n",
       "      <td>0</td>\n",
       "      <td>0</td>\n",
       "      <td>0</td>\n",
       "      <td>0</td>\n",
       "      <td>0</td>\n",
       "      <td>0</td>\n",
       "      <td>0</td>\n",
       "      <td>0</td>\n",
       "      <td>0</td>\n",
       "      <td>8</td>\n",
       "    </tr>\n",
       "  </tbody>\n",
       "</table>\n",
       "<p>5 rows × 128 columns</p>\n",
       "</div>"
      ],
      "text/plain": [
       "   Id  Product_Info_1 Product_Info_2  Product_Info_3  Product_Info_4  \\\n",
       "0   2               1             D3              10        0.076923   \n",
       "1   5               1             A1              26        0.076923   \n",
       "2   6               1             E1              26        0.076923   \n",
       "3   7               1             D4              10        0.487179   \n",
       "4   8               1             D2              26        0.230769   \n",
       "\n",
       "   Product_Info_5  Product_Info_6  Product_Info_7   Ins_Age        Ht  ...  \\\n",
       "0               2               1               1  0.641791  0.581818  ...   \n",
       "1               2               3               1  0.059701  0.600000  ...   \n",
       "2               2               3               1  0.029851  0.745455  ...   \n",
       "3               2               3               1  0.164179  0.672727  ...   \n",
       "4               2               3               1  0.417910  0.654545  ...   \n",
       "\n",
       "   Medical_Keyword_40  Medical_Keyword_41  Medical_Keyword_42  \\\n",
       "0                   0                   0                   0   \n",
       "1                   0                   0                   0   \n",
       "2                   0                   0                   0   \n",
       "3                   0                   0                   0   \n",
       "4                   0                   0                   0   \n",
       "\n",
       "   Medical_Keyword_43  Medical_Keyword_44  Medical_Keyword_45  \\\n",
       "0                   0                   0                   0   \n",
       "1                   0                   0                   0   \n",
       "2                   0                   0                   0   \n",
       "3                   0                   0                   0   \n",
       "4                   0                   0                   0   \n",
       "\n",
       "   Medical_Keyword_46  Medical_Keyword_47  Medical_Keyword_48  Response  \n",
       "0                   0                   0                   0         8  \n",
       "1                   0                   0                   0         4  \n",
       "2                   0                   0                   0         8  \n",
       "3                   0                   0                   0         8  \n",
       "4                   0                   0                   0         8  \n",
       "\n",
       "[5 rows x 128 columns]"
      ]
     },
     "execution_count": 10,
     "metadata": {},
     "output_type": "execute_result"
    }
   ],
   "source": [
    "LifeInsDS.head()"
   ]
  },
  {
   "cell_type": "code",
   "execution_count": 11,
   "id": "b49a3567",
   "metadata": {},
   "outputs": [
    {
     "name": "stdout",
     "output_type": "stream",
     "text": [
      "<class 'pandas.core.frame.DataFrame'>\n",
      "RangeIndex: 59381 entries, 0 to 59380\n",
      "Columns: 128 entries, Id to Response\n",
      "dtypes: float64(18), int64(109), object(1)\n",
      "memory usage: 58.0+ MB\n"
     ]
    }
   ],
   "source": [
    "LifeInsDS.info()"
   ]
  },
  {
   "cell_type": "code",
   "execution_count": 31,
   "id": "5d59d14e",
   "metadata": {},
   "outputs": [
    {
     "data": {
      "text/html": [
       "<div>\n",
       "<style scoped>\n",
       "    .dataframe tbody tr th:only-of-type {\n",
       "        vertical-align: middle;\n",
       "    }\n",
       "\n",
       "    .dataframe tbody tr th {\n",
       "        vertical-align: top;\n",
       "    }\n",
       "\n",
       "    .dataframe thead th {\n",
       "        text-align: right;\n",
       "    }\n",
       "</style>\n",
       "<table border=\"1\" class=\"dataframe\">\n",
       "  <thead>\n",
       "    <tr style=\"text-align: right;\">\n",
       "      <th></th>\n",
       "      <th>count</th>\n",
       "      <th>%</th>\n",
       "    </tr>\n",
       "  </thead>\n",
       "  <tbody>\n",
       "    <tr>\n",
       "      <th>Medical_History_10</th>\n",
       "      <td>58824</td>\n",
       "      <td>99.061990</td>\n",
       "    </tr>\n",
       "    <tr>\n",
       "      <th>Medical_History_32</th>\n",
       "      <td>58274</td>\n",
       "      <td>98.135767</td>\n",
       "    </tr>\n",
       "    <tr>\n",
       "      <th>Medical_History_24</th>\n",
       "      <td>55580</td>\n",
       "      <td>93.598963</td>\n",
       "    </tr>\n",
       "    <tr>\n",
       "      <th>Medical_History_15</th>\n",
       "      <td>44596</td>\n",
       "      <td>75.101463</td>\n",
       "    </tr>\n",
       "    <tr>\n",
       "      <th>Family_Hist_5</th>\n",
       "      <td>41811</td>\n",
       "      <td>70.411411</td>\n",
       "    </tr>\n",
       "    <tr>\n",
       "      <th>...</th>\n",
       "      <td>...</td>\n",
       "      <td>...</td>\n",
       "    </tr>\n",
       "    <tr>\n",
       "      <th>Medical_History_6</th>\n",
       "      <td>0</td>\n",
       "      <td>0.000000</td>\n",
       "    </tr>\n",
       "    <tr>\n",
       "      <th>Medical_History_5</th>\n",
       "      <td>0</td>\n",
       "      <td>0.000000</td>\n",
       "    </tr>\n",
       "    <tr>\n",
       "      <th>Medical_History_4</th>\n",
       "      <td>0</td>\n",
       "      <td>0.000000</td>\n",
       "    </tr>\n",
       "    <tr>\n",
       "      <th>Medical_History_3</th>\n",
       "      <td>0</td>\n",
       "      <td>0.000000</td>\n",
       "    </tr>\n",
       "    <tr>\n",
       "      <th>Response</th>\n",
       "      <td>0</td>\n",
       "      <td>0.000000</td>\n",
       "    </tr>\n",
       "  </tbody>\n",
       "</table>\n",
       "<p>128 rows × 2 columns</p>\n",
       "</div>"
      ],
      "text/plain": [
       "                    count          %\n",
       "Medical_History_10  58824  99.061990\n",
       "Medical_History_32  58274  98.135767\n",
       "Medical_History_24  55580  93.598963\n",
       "Medical_History_15  44596  75.101463\n",
       "Family_Hist_5       41811  70.411411\n",
       "...                   ...        ...\n",
       "Medical_History_6       0   0.000000\n",
       "Medical_History_5       0   0.000000\n",
       "Medical_History_4       0   0.000000\n",
       "Medical_History_3       0   0.000000\n",
       "Response                0   0.000000\n",
       "\n",
       "[128 rows x 2 columns]"
      ]
     },
     "execution_count": 31,
     "metadata": {},
     "output_type": "execute_result"
    }
   ],
   "source": [
    "missing = pd.concat([LifeInsDS.isnull().sum(), 100 * LifeInsDS.isnull().mean()], axis=1)\n",
    "missing.columns=['count', '%']\n",
    "missing.sort_values(by='count', ascending = False)\n"
   ]
  },
  {
   "cell_type": "code",
   "execution_count": 36,
   "id": "42e00c53",
   "metadata": {},
   "outputs": [
    {
     "data": {
      "text/html": [
       "<div>\n",
       "<style scoped>\n",
       "    .dataframe tbody tr th:only-of-type {\n",
       "        vertical-align: middle;\n",
       "    }\n",
       "\n",
       "    .dataframe tbody tr th {\n",
       "        vertical-align: top;\n",
       "    }\n",
       "\n",
       "    .dataframe thead th {\n",
       "        text-align: right;\n",
       "    }\n",
       "</style>\n",
       "<table border=\"1\" class=\"dataframe\">\n",
       "  <thead>\n",
       "    <tr style=\"text-align: right;\">\n",
       "      <th></th>\n",
       "      <th>count</th>\n",
       "      <th>%</th>\n",
       "    </tr>\n",
       "  </thead>\n",
       "  <tbody>\n",
       "    <tr>\n",
       "      <th>Medical_History_10</th>\n",
       "      <td>58824</td>\n",
       "      <td>99.061990</td>\n",
       "    </tr>\n",
       "    <tr>\n",
       "      <th>Medical_History_32</th>\n",
       "      <td>58274</td>\n",
       "      <td>98.135767</td>\n",
       "    </tr>\n",
       "    <tr>\n",
       "      <th>Medical_History_24</th>\n",
       "      <td>55580</td>\n",
       "      <td>93.598963</td>\n",
       "    </tr>\n",
       "    <tr>\n",
       "      <th>Medical_History_15</th>\n",
       "      <td>44596</td>\n",
       "      <td>75.101463</td>\n",
       "    </tr>\n",
       "    <tr>\n",
       "      <th>Family_Hist_5</th>\n",
       "      <td>41811</td>\n",
       "      <td>70.411411</td>\n",
       "    </tr>\n",
       "    <tr>\n",
       "      <th>Family_Hist_3</th>\n",
       "      <td>34241</td>\n",
       "      <td>57.663226</td>\n",
       "    </tr>\n",
       "    <tr>\n",
       "      <th>Family_Hist_2</th>\n",
       "      <td>28656</td>\n",
       "      <td>48.257860</td>\n",
       "    </tr>\n",
       "    <tr>\n",
       "      <th>Insurance_History_5</th>\n",
       "      <td>25396</td>\n",
       "      <td>42.767889</td>\n",
       "    </tr>\n",
       "    <tr>\n",
       "      <th>Family_Hist_4</th>\n",
       "      <td>19184</td>\n",
       "      <td>32.306630</td>\n",
       "    </tr>\n",
       "    <tr>\n",
       "      <th>Employment_Info_6</th>\n",
       "      <td>10854</td>\n",
       "      <td>18.278574</td>\n",
       "    </tr>\n",
       "    <tr>\n",
       "      <th>Medical_History_1</th>\n",
       "      <td>8889</td>\n",
       "      <td>14.969435</td>\n",
       "    </tr>\n",
       "    <tr>\n",
       "      <th>Employment_Info_4</th>\n",
       "      <td>6779</td>\n",
       "      <td>11.416110</td>\n",
       "    </tr>\n",
       "    <tr>\n",
       "      <th>Employment_Info_1</th>\n",
       "      <td>19</td>\n",
       "      <td>0.031997</td>\n",
       "    </tr>\n",
       "  </tbody>\n",
       "</table>\n",
       "</div>"
      ],
      "text/plain": [
       "                     count          %\n",
       "Medical_History_10   58824  99.061990\n",
       "Medical_History_32   58274  98.135767\n",
       "Medical_History_24   55580  93.598963\n",
       "Medical_History_15   44596  75.101463\n",
       "Family_Hist_5        41811  70.411411\n",
       "Family_Hist_3        34241  57.663226\n",
       "Family_Hist_2        28656  48.257860\n",
       "Insurance_History_5  25396  42.767889\n",
       "Family_Hist_4        19184  32.306630\n",
       "Employment_Info_6    10854  18.278574\n",
       "Medical_History_1     8889  14.969435\n",
       "Employment_Info_4     6779  11.416110\n",
       "Employment_Info_1       19   0.031997"
      ]
     },
     "execution_count": 36,
     "metadata": {},
     "output_type": "execute_result"
    }
   ],
   "source": [
    "M2 = missing.query('count > 0')\n",
    "M2.sort_values(by = 'count', ascending = False)"
   ]
  },
  {
   "cell_type": "code",
   "execution_count": 38,
   "id": "46896b5a",
   "metadata": {},
   "outputs": [
    {
     "data": {
      "text/plain": [
       "<AxesSubplot:>"
      ]
     },
     "execution_count": 38,
     "metadata": {},
     "output_type": "execute_result"
    },
    {
     "data": {
      "image/png": "[encoded data removed]",
      "text/plain": [
       "<Figure size 1440x864 with 2 Axes>"
      ]
     },
     "metadata": {
      "needs_background": "light"
     },
     "output_type": "display_data"
    }
   ],
   "source": [
    "msno.heatmap(LifeInsDS)"
   ]
  },
  {
   "cell_type": "markdown",
   "id": "b2c2c4ae",
   "metadata": {},
   "source": [
    "A value near -1 means if one variable appears then the other variable is very likely to be missing.\n",
    "A value near 0 means there is no dependence between the occurrence of missing values of two variables.\n",
    "A value near 1 means if one variable appears then the other variable is very likely to be present."
   ]
  },
  {
   "cell_type": "code",
   "execution_count": 47,
   "id": "2f6d4722",
   "metadata": {},
   "outputs": [
    {
     "data": {
      "text/plain": [
       "0     4.0\n",
       "1     5.0\n",
       "2    10.0\n",
       "3     0.0\n",
       "4     NaN\n",
       "Name: Medical_History_1, dtype: float64"
      ]
     },
     "execution_count": 47,
     "metadata": {},
     "output_type": "execute_result"
    }
   ],
   "source": [
    "LifeInsDS.Medical_History_1.head()"
   ]
  },
  {
   "cell_type": "code",
   "execution_count": 48,
   "id": "593e339c",
   "metadata": {},
   "outputs": [
    {
     "data": {
      "text/plain": [
       "36220    0.594203\n",
       "33598    0.536232\n",
       "54324         NaN\n",
       "41206    0.289855\n",
       "24190    0.681159\n",
       "31450         NaN\n",
       "46591         NaN\n",
       "14632    0.652174\n",
       "50908    0.652174\n",
       "58102    0.492754\n",
       "Name: Family_Hist_2, dtype: float64"
      ]
     },
     "execution_count": 48,
     "metadata": {},
     "output_type": "execute_result"
    }
   ],
   "source": [
    "LifeInsDS.Family_Hist_2.sample(n=10)"
   ]
  },
  {
   "cell_type": "code",
   "execution_count": 49,
   "id": "bb607929",
   "metadata": {},
   "outputs": [
    {
     "data": {
      "text/plain": [
       "6098          NaN\n",
       "1587          NaN\n",
       "37523         NaN\n",
       "41628    0.607843\n",
       "49906    0.500000\n",
       "57206         NaN\n",
       "19057         NaN\n",
       "32327         NaN\n",
       "5993     0.715686\n",
       "6758          NaN\n",
       "Name: Family_Hist_3, dtype: float64"
      ]
     },
     "execution_count": 49,
     "metadata": {},
     "output_type": "execute_result"
    }
   ],
   "source": [
    "LifeInsDS.Family_Hist_3.sample(n=10)"
   ]
  },
  {
   "cell_type": "code",
   "execution_count": 50,
   "id": "97fcb499",
   "metadata": {},
   "outputs": [
    {
     "data": {
      "text/plain": [
       "7573     140.0\n",
       "24225    135.0\n",
       "44907      NaN\n",
       "59231      NaN\n",
       "15762      NaN\n",
       "23632      NaN\n",
       "55808      NaN\n",
       "6812       NaN\n",
       "22875      NaN\n",
       "5852       NaN\n",
       "Name: Medical_History_15, dtype: float64"
      ]
     },
     "execution_count": 50,
     "metadata": {},
     "output_type": "execute_result"
    }
   ],
   "source": [
    "LifeInsDS.Medical_History_15.sample(n=10)"
   ]
  },
  {
   "cell_type": "code",
   "execution_count": null,
   "id": "2cd1cd3e",
   "metadata": {},
   "outputs": [],
   "source": []
  }
 ],
 "metadata": {
  "kernelspec": {
   "display_name": "Python 3 (ipykernel)",
   "language": "python",
   "name": "python3"
  },
  "language_info": {
   "codemirror_mode": {
    "name": "ipython",
    "version": 3
   },
   "file_extension": ".py",
   "mimetype": "text/x-python",
   "name": "python",
   "nbconvert_exporter": "python",
   "pygments_lexer": "ipython3",
   "version": "3.9.12"
  }
 },
 "nbformat": 4,
 "nbformat_minor": 5
}
